{
 "cells": [
  {
   "cell_type": "code",
   "execution_count": 1,
   "id": "678e266a",
   "metadata": {},
   "outputs": [],
   "source": [
    "import os\n",
    "import pandas as pd"
   ]
  },
  {
   "cell_type": "code",
   "execution_count": 2,
   "id": "532e9283",
   "metadata": {},
   "outputs": [],
   "source": [
    "import numpy as np"
   ]
  },
  {
   "cell_type": "code",
   "execution_count": 3,
   "id": "eba75367",
   "metadata": {},
   "outputs": [],
   "source": [
    "TITANIC_PATH = os.path.join(\"datasets\", \"titanic\")"
   ]
  },
  {
   "cell_type": "code",
   "execution_count": 4,
   "id": "394984fc",
   "metadata": {},
   "outputs": [],
   "source": [
    "def load_titanic_data(filename, titanic_path=TITANIC_PATH):\n",
    "    csv_path = os.path.join(titanic_path, filename)\n",
    "    return pd.read_csv(csv_path)"
   ]
  },
  {
   "cell_type": "code",
   "execution_count": 5,
   "id": "67fbf943",
   "metadata": {},
   "outputs": [],
   "source": [
    "test_data = load_titanic_data(r'test.csv')\n",
    "train_data = load_titanic_data(r'train.csv')"
   ]
  },
  {
   "cell_type": "code",
   "execution_count": 35,
   "id": "f3bafc11",
   "metadata": {},
   "outputs": [],
   "source": [
    "from sklearn.base import BaseEstimator, TransformerMixin\n",
    "\n",
    "class add_new_rows(BaseEstimator, TransformerMixin):\n",
    "    def fit(self, X, y=None):\n",
    "        return self\n",
    "    def transform(self, X, y=None):\n",
    "        X[\"Relatives\"] = X[\"SibSp\"] + X[\"Parch\"]\n",
    "        X[\"AgeBucket\"] = X[\"Age\"] // 10 * 10\n",
    "        X[\"If_relatives\"] = (X[\"Relatives\"].astype(int) == True).astype(int)\n",
    "        X[\"Wife\"] = ((X[\"Sex\"] == \"female\") & X[\"SibSp\"].astype(int))\n",
    "        return X\n",
    "adder = add_new_rows()"
   ]
  },
  {
   "cell_type": "code",
   "execution_count": 25,
   "id": "29ead156",
   "metadata": {},
   "outputs": [],
   "source": [
    "from sklearn.impute import SimpleImputer\n",
    "\n",
    "imputer = SimpleImputer(strategy=\"mean\")"
   ]
  },
  {
   "cell_type": "code",
   "execution_count": 26,
   "id": "a1fd84b1",
   "metadata": {},
   "outputs": [],
   "source": [
    "class MostFrequentImputer(BaseEstimator, TransformerMixin):\n",
    "    def fit(self, X, y=None):\n",
    "        self.most_frequent_ = pd.Series([X[c].value_counts().index[0] for c in X],\n",
    "                                        index=X.columns)\n",
    "        return self\n",
    "    def transform(self, X, y=None):\n",
    "        return X.fillna(self.most_frequent_)"
   ]
  },
  {
   "cell_type": "code",
   "execution_count": 27,
   "id": "714f2055",
   "metadata": {},
   "outputs": [],
   "source": [
    "from sklearn.preprocessing import OneHotEncoder\n",
    "\n",
    "one_hot = OneHotEncoder(sparse=False)"
   ]
  },
  {
   "cell_type": "code",
   "execution_count": 28,
   "id": "55717526",
   "metadata": {},
   "outputs": [],
   "source": [
    "from sklearn.pipeline import Pipeline\n",
    "\n",
    "cat_pipeline = Pipeline([\n",
    "    ('most_frequent', MostFrequentImputer()),\n",
    "    ('one_hot', one_hot)\n",
    "])"
   ]
  },
  {
   "cell_type": "code",
   "execution_count": 43,
   "id": "b613f7f3",
   "metadata": {},
   "outputs": [],
   "source": [
    "num_cols = [\"Survived\", \"Fare\", \"Relatives\", \"Parch\", \"SibSp\", \"Age\", \"AgeBucket\"]\n",
    "num_cols_test = [\"Fare\", \"Relatives\", \"Parch\", \"SibSp\", \"Age\", \"AgeBucket\"]\n",
    "\n",
    "cat_cols = [\"Sex\", \"Embarked\", \"Pclass\"]\n",
    "\n",
    "dropped_cols = [\"PassengerId\", \"Cabin\", \"Name\", \"Ticket\"]"
   ]
  },
  {
   "cell_type": "code",
   "execution_count": 91,
   "id": "60ddc750",
   "metadata": {},
   "outputs": [],
   "source": [
    "from sklearn.preprocessing import normalize"
   ]
  },
  {
   "cell_type": "code",
   "execution_count": 77,
   "id": "1608fb27",
   "metadata": {},
   "outputs": [],
   "source": [
    "from sklearn.compose import ColumnTransformer\n",
    "\n",
    "preprocessing_pipeline = ColumnTransformer([\n",
    "    (\"numerical\", imputer, num_cols),\n",
    "    (\"categories\", cat_pipeline, cat_cols),\n",
    "    (\"dropped_cols\", 'drop', dropped_cols)\n",
    "])\n",
    "\n",
    "preprocessing_pipeline_test = ColumnTransformer([\n",
    "    (\"numerical\", imputer, num_cols_test),\n",
    "    (\"categories\", cat_pipeline, cat_cols),\n",
    "    (\"dropped_cols\", 'drop', dropped_cols)\n",
    "])"
   ]
  },
  {
   "cell_type": "code",
   "execution_count": 78,
   "id": "274d37f5",
   "metadata": {},
   "outputs": [],
   "source": [
    "train_data_extended = adder.fit_transform(train_data)\n",
    "test_data_extended = adder.fit_transform(test_data)"
   ]
  },
  {
   "cell_type": "code",
   "execution_count": 79,
   "id": "3638459e",
   "metadata": {},
   "outputs": [],
   "source": [
    "train_data_processed = preprocessing_pipeline.fit_transform(train_data_extended)\n",
    "test_data_processed = preprocessing_pipeline_test.fit_transform(test_data_extended)"
   ]
  },
  {
   "cell_type": "code",
   "execution_count": 80,
   "id": "8d4bc585",
   "metadata": {},
   "outputs": [],
   "source": [
    "col_names = np.concatenate([num_cols, cat_cols], axis=None)\n",
    "col_names_test = np.concatenate([num_cols_test, cat_cols], axis=None)"
   ]
  },
  {
   "cell_type": "code",
   "execution_count": 81,
   "id": "d0051474",
   "metadata": {},
   "outputs": [],
   "source": [
    "train_data_processed = pd.DataFrame(train_data_processed)\n",
    "train_data_processed = train_data_processed.drop(columns=train_data_processed.columns[[9, 10, 11, 12, 13]])\n",
    "\n",
    "test_data_processed = pd.DataFrame(test_data_processed)\n",
    "test_data_processed = test_data_processed.drop(columns=test_data_processed.columns[[9, 10, 11, 12, 13]])"
   ]
  },
  {
   "cell_type": "code",
   "execution_count": 82,
   "id": "00361662",
   "metadata": {},
   "outputs": [],
   "source": [
    "train_data_processed.columns = col_names\n",
    "test_data_processed.columns = col_names_test"
   ]
  },
  {
   "cell_type": "code",
   "execution_count": 84,
   "id": "f04da4ff",
   "metadata": {},
   "outputs": [
    {
     "data": {
      "text/html": [
       "<div>\n",
       "<style scoped>\n",
       "    .dataframe tbody tr th:only-of-type {\n",
       "        vertical-align: middle;\n",
       "    }\n",
       "\n",
       "    .dataframe tbody tr th {\n",
       "        vertical-align: top;\n",
       "    }\n",
       "\n",
       "    .dataframe thead th {\n",
       "        text-align: right;\n",
       "    }\n",
       "</style>\n",
       "<table border=\"1\" class=\"dataframe\">\n",
       "  <thead>\n",
       "    <tr style=\"text-align: right;\">\n",
       "      <th></th>\n",
       "      <th>Survived</th>\n",
       "      <th>Fare</th>\n",
       "      <th>Relatives</th>\n",
       "      <th>Parch</th>\n",
       "      <th>SibSp</th>\n",
       "      <th>Age</th>\n",
       "      <th>AgeBucket</th>\n",
       "      <th>Sex</th>\n",
       "      <th>Embarked</th>\n",
       "      <th>Pclass</th>\n",
       "    </tr>\n",
       "  </thead>\n",
       "  <tbody>\n",
       "    <tr>\n",
       "      <th>0</th>\n",
       "      <td>0.0</td>\n",
       "      <td>7.2500</td>\n",
       "      <td>1.0</td>\n",
       "      <td>0.0</td>\n",
       "      <td>1.0</td>\n",
       "      <td>22.000000</td>\n",
       "      <td>20.000000</td>\n",
       "      <td>0.0</td>\n",
       "      <td>1.0</td>\n",
       "      <td>1.0</td>\n",
       "    </tr>\n",
       "    <tr>\n",
       "      <th>1</th>\n",
       "      <td>1.0</td>\n",
       "      <td>71.2833</td>\n",
       "      <td>1.0</td>\n",
       "      <td>0.0</td>\n",
       "      <td>1.0</td>\n",
       "      <td>38.000000</td>\n",
       "      <td>30.000000</td>\n",
       "      <td>1.0</td>\n",
       "      <td>0.0</td>\n",
       "      <td>0.0</td>\n",
       "    </tr>\n",
       "    <tr>\n",
       "      <th>2</th>\n",
       "      <td>1.0</td>\n",
       "      <td>7.9250</td>\n",
       "      <td>0.0</td>\n",
       "      <td>0.0</td>\n",
       "      <td>0.0</td>\n",
       "      <td>26.000000</td>\n",
       "      <td>20.000000</td>\n",
       "      <td>1.0</td>\n",
       "      <td>0.0</td>\n",
       "      <td>1.0</td>\n",
       "    </tr>\n",
       "    <tr>\n",
       "      <th>3</th>\n",
       "      <td>1.0</td>\n",
       "      <td>53.1000</td>\n",
       "      <td>1.0</td>\n",
       "      <td>0.0</td>\n",
       "      <td>1.0</td>\n",
       "      <td>35.000000</td>\n",
       "      <td>30.000000</td>\n",
       "      <td>1.0</td>\n",
       "      <td>0.0</td>\n",
       "      <td>0.0</td>\n",
       "    </tr>\n",
       "    <tr>\n",
       "      <th>4</th>\n",
       "      <td>0.0</td>\n",
       "      <td>8.0500</td>\n",
       "      <td>0.0</td>\n",
       "      <td>0.0</td>\n",
       "      <td>0.0</td>\n",
       "      <td>35.000000</td>\n",
       "      <td>30.000000</td>\n",
       "      <td>0.0</td>\n",
       "      <td>1.0</td>\n",
       "      <td>1.0</td>\n",
       "    </tr>\n",
       "    <tr>\n",
       "      <th>...</th>\n",
       "      <td>...</td>\n",
       "      <td>...</td>\n",
       "      <td>...</td>\n",
       "      <td>...</td>\n",
       "      <td>...</td>\n",
       "      <td>...</td>\n",
       "      <td>...</td>\n",
       "      <td>...</td>\n",
       "      <td>...</td>\n",
       "      <td>...</td>\n",
       "    </tr>\n",
       "    <tr>\n",
       "      <th>886</th>\n",
       "      <td>0.0</td>\n",
       "      <td>13.0000</td>\n",
       "      <td>0.0</td>\n",
       "      <td>0.0</td>\n",
       "      <td>0.0</td>\n",
       "      <td>27.000000</td>\n",
       "      <td>20.000000</td>\n",
       "      <td>0.0</td>\n",
       "      <td>1.0</td>\n",
       "      <td>0.0</td>\n",
       "    </tr>\n",
       "    <tr>\n",
       "      <th>887</th>\n",
       "      <td>1.0</td>\n",
       "      <td>30.0000</td>\n",
       "      <td>0.0</td>\n",
       "      <td>0.0</td>\n",
       "      <td>0.0</td>\n",
       "      <td>19.000000</td>\n",
       "      <td>10.000000</td>\n",
       "      <td>1.0</td>\n",
       "      <td>0.0</td>\n",
       "      <td>0.0</td>\n",
       "    </tr>\n",
       "    <tr>\n",
       "      <th>888</th>\n",
       "      <td>0.0</td>\n",
       "      <td>23.4500</td>\n",
       "      <td>3.0</td>\n",
       "      <td>2.0</td>\n",
       "      <td>1.0</td>\n",
       "      <td>29.699118</td>\n",
       "      <td>25.252101</td>\n",
       "      <td>1.0</td>\n",
       "      <td>0.0</td>\n",
       "      <td>1.0</td>\n",
       "    </tr>\n",
       "    <tr>\n",
       "      <th>889</th>\n",
       "      <td>1.0</td>\n",
       "      <td>30.0000</td>\n",
       "      <td>0.0</td>\n",
       "      <td>0.0</td>\n",
       "      <td>0.0</td>\n",
       "      <td>26.000000</td>\n",
       "      <td>20.000000</td>\n",
       "      <td>0.0</td>\n",
       "      <td>1.0</td>\n",
       "      <td>0.0</td>\n",
       "    </tr>\n",
       "    <tr>\n",
       "      <th>890</th>\n",
       "      <td>0.0</td>\n",
       "      <td>7.7500</td>\n",
       "      <td>0.0</td>\n",
       "      <td>0.0</td>\n",
       "      <td>0.0</td>\n",
       "      <td>32.000000</td>\n",
       "      <td>30.000000</td>\n",
       "      <td>0.0</td>\n",
       "      <td>1.0</td>\n",
       "      <td>1.0</td>\n",
       "    </tr>\n",
       "  </tbody>\n",
       "</table>\n",
       "<p>891 rows × 10 columns</p>\n",
       "</div>"
      ],
      "text/plain": [
       "     Survived     Fare  Relatives  Parch  SibSp        Age  AgeBucket  Sex  \\\n",
       "0         0.0   7.2500        1.0    0.0    1.0  22.000000  20.000000  0.0   \n",
       "1         1.0  71.2833        1.0    0.0    1.0  38.000000  30.000000  1.0   \n",
       "2         1.0   7.9250        0.0    0.0    0.0  26.000000  20.000000  1.0   \n",
       "3         1.0  53.1000        1.0    0.0    1.0  35.000000  30.000000  1.0   \n",
       "4         0.0   8.0500        0.0    0.0    0.0  35.000000  30.000000  0.0   \n",
       "..        ...      ...        ...    ...    ...        ...        ...  ...   \n",
       "886       0.0  13.0000        0.0    0.0    0.0  27.000000  20.000000  0.0   \n",
       "887       1.0  30.0000        0.0    0.0    0.0  19.000000  10.000000  1.0   \n",
       "888       0.0  23.4500        3.0    2.0    1.0  29.699118  25.252101  1.0   \n",
       "889       1.0  30.0000        0.0    0.0    0.0  26.000000  20.000000  0.0   \n",
       "890       0.0   7.7500        0.0    0.0    0.0  32.000000  30.000000  0.0   \n",
       "\n",
       "     Embarked  Pclass  \n",
       "0         1.0     1.0  \n",
       "1         0.0     0.0  \n",
       "2         0.0     1.0  \n",
       "3         0.0     0.0  \n",
       "4         1.0     1.0  \n",
       "..        ...     ...  \n",
       "886       1.0     0.0  \n",
       "887       0.0     0.0  \n",
       "888       0.0     1.0  \n",
       "889       1.0     0.0  \n",
       "890       1.0     1.0  \n",
       "\n",
       "[891 rows x 10 columns]"
      ]
     },
     "execution_count": 84,
     "metadata": {},
     "output_type": "execute_result"
    }
   ],
   "source": [
    "train_data_processed"
   ]
  },
  {
   "cell_type": "code",
   "execution_count": 136,
   "id": "c5ce800c",
   "metadata": {},
   "outputs": [],
   "source": [
    "a = normalize([train_data_processed[\"Fare\"]], norm='l2')\n",
    "a = a.T\n",
    "a = pd.DataFrame(a)\n",
    "train_data_processed[\"Fare\"] = a\n",
    "test_data_processed[\"Fare\"] = a "
   ]
  },
  {
   "cell_type": "code",
   "execution_count": 138,
   "id": "25124cf9",
   "metadata": {},
   "outputs": [
    {
     "data": {
      "text/html": [
       "<div>\n",
       "<style scoped>\n",
       "    .dataframe tbody tr th:only-of-type {\n",
       "        vertical-align: middle;\n",
       "    }\n",
       "\n",
       "    .dataframe tbody tr th {\n",
       "        vertical-align: top;\n",
       "    }\n",
       "\n",
       "    .dataframe thead th {\n",
       "        text-align: right;\n",
       "    }\n",
       "</style>\n",
       "<table border=\"1\" class=\"dataframe\">\n",
       "  <thead>\n",
       "    <tr style=\"text-align: right;\">\n",
       "      <th></th>\n",
       "      <th>Survived</th>\n",
       "      <th>Fare</th>\n",
       "      <th>Relatives</th>\n",
       "      <th>Parch</th>\n",
       "      <th>SibSp</th>\n",
       "      <th>Age</th>\n",
       "      <th>AgeBucket</th>\n",
       "      <th>Sex</th>\n",
       "      <th>Embarked</th>\n",
       "      <th>Pclass</th>\n",
       "    </tr>\n",
       "  </thead>\n",
       "  <tbody>\n",
       "    <tr>\n",
       "      <th>0</th>\n",
       "      <td>0.0</td>\n",
       "      <td>0.004103</td>\n",
       "      <td>1.0</td>\n",
       "      <td>0.0</td>\n",
       "      <td>1.0</td>\n",
       "      <td>22.000000</td>\n",
       "      <td>20.000000</td>\n",
       "      <td>0.0</td>\n",
       "      <td>1.0</td>\n",
       "      <td>1.0</td>\n",
       "    </tr>\n",
       "    <tr>\n",
       "      <th>1</th>\n",
       "      <td>1.0</td>\n",
       "      <td>0.040344</td>\n",
       "      <td>1.0</td>\n",
       "      <td>0.0</td>\n",
       "      <td>1.0</td>\n",
       "      <td>38.000000</td>\n",
       "      <td>30.000000</td>\n",
       "      <td>1.0</td>\n",
       "      <td>0.0</td>\n",
       "      <td>0.0</td>\n",
       "    </tr>\n",
       "    <tr>\n",
       "      <th>2</th>\n",
       "      <td>1.0</td>\n",
       "      <td>0.004485</td>\n",
       "      <td>0.0</td>\n",
       "      <td>0.0</td>\n",
       "      <td>0.0</td>\n",
       "      <td>26.000000</td>\n",
       "      <td>20.000000</td>\n",
       "      <td>1.0</td>\n",
       "      <td>0.0</td>\n",
       "      <td>1.0</td>\n",
       "    </tr>\n",
       "    <tr>\n",
       "      <th>3</th>\n",
       "      <td>1.0</td>\n",
       "      <td>0.030053</td>\n",
       "      <td>1.0</td>\n",
       "      <td>0.0</td>\n",
       "      <td>1.0</td>\n",
       "      <td>35.000000</td>\n",
       "      <td>30.000000</td>\n",
       "      <td>1.0</td>\n",
       "      <td>0.0</td>\n",
       "      <td>0.0</td>\n",
       "    </tr>\n",
       "    <tr>\n",
       "      <th>4</th>\n",
       "      <td>0.0</td>\n",
       "      <td>0.004556</td>\n",
       "      <td>0.0</td>\n",
       "      <td>0.0</td>\n",
       "      <td>0.0</td>\n",
       "      <td>35.000000</td>\n",
       "      <td>30.000000</td>\n",
       "      <td>0.0</td>\n",
       "      <td>1.0</td>\n",
       "      <td>1.0</td>\n",
       "    </tr>\n",
       "    <tr>\n",
       "      <th>...</th>\n",
       "      <td>...</td>\n",
       "      <td>...</td>\n",
       "      <td>...</td>\n",
       "      <td>...</td>\n",
       "      <td>...</td>\n",
       "      <td>...</td>\n",
       "      <td>...</td>\n",
       "      <td>...</td>\n",
       "      <td>...</td>\n",
       "      <td>...</td>\n",
       "    </tr>\n",
       "    <tr>\n",
       "      <th>886</th>\n",
       "      <td>0.0</td>\n",
       "      <td>0.007358</td>\n",
       "      <td>0.0</td>\n",
       "      <td>0.0</td>\n",
       "      <td>0.0</td>\n",
       "      <td>27.000000</td>\n",
       "      <td>20.000000</td>\n",
       "      <td>0.0</td>\n",
       "      <td>1.0</td>\n",
       "      <td>0.0</td>\n",
       "    </tr>\n",
       "    <tr>\n",
       "      <th>887</th>\n",
       "      <td>1.0</td>\n",
       "      <td>0.016979</td>\n",
       "      <td>0.0</td>\n",
       "      <td>0.0</td>\n",
       "      <td>0.0</td>\n",
       "      <td>19.000000</td>\n",
       "      <td>10.000000</td>\n",
       "      <td>1.0</td>\n",
       "      <td>0.0</td>\n",
       "      <td>0.0</td>\n",
       "    </tr>\n",
       "    <tr>\n",
       "      <th>888</th>\n",
       "      <td>0.0</td>\n",
       "      <td>0.013272</td>\n",
       "      <td>3.0</td>\n",
       "      <td>2.0</td>\n",
       "      <td>1.0</td>\n",
       "      <td>29.699118</td>\n",
       "      <td>25.252101</td>\n",
       "      <td>1.0</td>\n",
       "      <td>0.0</td>\n",
       "      <td>1.0</td>\n",
       "    </tr>\n",
       "    <tr>\n",
       "      <th>889</th>\n",
       "      <td>1.0</td>\n",
       "      <td>0.016979</td>\n",
       "      <td>0.0</td>\n",
       "      <td>0.0</td>\n",
       "      <td>0.0</td>\n",
       "      <td>26.000000</td>\n",
       "      <td>20.000000</td>\n",
       "      <td>0.0</td>\n",
       "      <td>1.0</td>\n",
       "      <td>0.0</td>\n",
       "    </tr>\n",
       "    <tr>\n",
       "      <th>890</th>\n",
       "      <td>0.0</td>\n",
       "      <td>0.004386</td>\n",
       "      <td>0.0</td>\n",
       "      <td>0.0</td>\n",
       "      <td>0.0</td>\n",
       "      <td>32.000000</td>\n",
       "      <td>30.000000</td>\n",
       "      <td>0.0</td>\n",
       "      <td>1.0</td>\n",
       "      <td>1.0</td>\n",
       "    </tr>\n",
       "  </tbody>\n",
       "</table>\n",
       "<p>891 rows × 10 columns</p>\n",
       "</div>"
      ],
      "text/plain": [
       "     Survived      Fare  Relatives  Parch  SibSp        Age  AgeBucket  Sex  \\\n",
       "0         0.0  0.004103        1.0    0.0    1.0  22.000000  20.000000  0.0   \n",
       "1         1.0  0.040344        1.0    0.0    1.0  38.000000  30.000000  1.0   \n",
       "2         1.0  0.004485        0.0    0.0    0.0  26.000000  20.000000  1.0   \n",
       "3         1.0  0.030053        1.0    0.0    1.0  35.000000  30.000000  1.0   \n",
       "4         0.0  0.004556        0.0    0.0    0.0  35.000000  30.000000  0.0   \n",
       "..        ...       ...        ...    ...    ...        ...        ...  ...   \n",
       "886       0.0  0.007358        0.0    0.0    0.0  27.000000  20.000000  0.0   \n",
       "887       1.0  0.016979        0.0    0.0    0.0  19.000000  10.000000  1.0   \n",
       "888       0.0  0.013272        3.0    2.0    1.0  29.699118  25.252101  1.0   \n",
       "889       1.0  0.016979        0.0    0.0    0.0  26.000000  20.000000  0.0   \n",
       "890       0.0  0.004386        0.0    0.0    0.0  32.000000  30.000000  0.0   \n",
       "\n",
       "     Embarked  Pclass  \n",
       "0         1.0     1.0  \n",
       "1         0.0     0.0  \n",
       "2         0.0     1.0  \n",
       "3         0.0     0.0  \n",
       "4         1.0     1.0  \n",
       "..        ...     ...  \n",
       "886       1.0     0.0  \n",
       "887       0.0     0.0  \n",
       "888       0.0     1.0  \n",
       "889       1.0     0.0  \n",
       "890       1.0     1.0  \n",
       "\n",
       "[891 rows x 10 columns]"
      ]
     },
     "execution_count": 138,
     "metadata": {},
     "output_type": "execute_result"
    }
   ],
   "source": [
    "train_data_processed"
   ]
  },
  {
   "cell_type": "code",
   "execution_count": 140,
   "id": "48fb3486",
   "metadata": {},
   "outputs": [
    {
     "data": {
      "text/plain": [
       "Survived     1.000000\n",
       "Sex          0.543351\n",
       "Fare         0.257307\n",
       "Parch        0.081629\n",
       "Relatives    0.016639\n",
       "SibSp       -0.035322\n",
       "AgeBucket   -0.066019\n",
       "Age         -0.069809\n",
       "Pclass      -0.322308\n",
       "Embarked    -0.543351\n",
       "Name: Survived, dtype: float64"
      ]
     },
     "execution_count": 140,
     "metadata": {},
     "output_type": "execute_result"
    }
   ],
   "source": [
    "corr_matrix = train_data_processed.corr(method=\"pearson\")\n",
    "corr_matrix[\"Survived\"].sort_values(ascending=False)"
   ]
  },
  {
   "cell_type": "code",
   "execution_count": 141,
   "id": "d7a31cd7",
   "metadata": {},
   "outputs": [],
   "source": [
    "# start looking for a model"
   ]
  },
  {
   "cell_type": "code",
   "execution_count": 142,
   "id": "6059c47e",
   "metadata": {},
   "outputs": [],
   "source": [
    "from sklearn.ensemble import RandomForestClassifier"
   ]
  },
  {
   "cell_type": "code",
   "execution_count": 143,
   "id": "a690506c",
   "metadata": {},
   "outputs": [],
   "source": [
    "forest_clf = RandomForestClassifier(n_estimators=100, random_state=42)"
   ]
  },
  {
   "cell_type": "code",
   "execution_count": 196,
   "id": "8014cb7b",
   "metadata": {},
   "outputs": [],
   "source": [
    "train_data_processed_sampled = train_data_processed.sample(frac=0.6, random_state=42)"
   ]
  },
  {
   "cell_type": "code",
   "execution_count": 197,
   "id": "56da1456",
   "metadata": {},
   "outputs": [],
   "source": [
    "X_train = train_data_processed_sampled.drop([\"Survived\", \"Relatives\"], axis=1)\n",
    "y_train = train_data_processed_sampled[\"Survived\"]"
   ]
  },
  {
   "cell_type": "code",
   "execution_count": 198,
   "id": "c87a05a8",
   "metadata": {},
   "outputs": [
    {
     "data": {
      "text/plain": [
       "RandomForestClassifier(random_state=42)"
      ]
     },
     "execution_count": 198,
     "metadata": {},
     "output_type": "execute_result"
    }
   ],
   "source": [
    "forest_clf.fit(X_train, y_train)"
   ]
  },
  {
   "cell_type": "code",
   "execution_count": 199,
   "id": "f0519dfb",
   "metadata": {},
   "outputs": [],
   "source": [
    "from sklearn.model_selection import cross_val_score"
   ]
  },
  {
   "cell_type": "code",
   "execution_count": 200,
   "id": "2c4cf6fa",
   "metadata": {},
   "outputs": [
    {
     "data": {
      "text/plain": [
       "0.8205607476635514"
      ]
     },
     "execution_count": 200,
     "metadata": {},
     "output_type": "execute_result"
    }
   ],
   "source": [
    "score = cross_val_score(forest_clf, X_train, y_train, cv=5)\n",
    "score.mean()"
   ]
  },
  {
   "cell_type": "code",
   "execution_count": 201,
   "id": "68dacc6d",
   "metadata": {},
   "outputs": [],
   "source": [
    "y_pred = forest_clf.predict(X_train)"
   ]
  },
  {
   "cell_type": "code",
   "execution_count": 202,
   "id": "ff193d8f",
   "metadata": {},
   "outputs": [
    {
     "data": {
      "text/plain": [
       "0.9928741092636579"
      ]
     },
     "execution_count": 202,
     "metadata": {},
     "output_type": "execute_result"
    }
   ],
   "source": [
    "from sklearn.metrics import f1_score\n",
    "\n",
    "f1_score(y_train, y_pred)"
   ]
  },
  {
   "cell_type": "code",
   "execution_count": 203,
   "id": "1a8fa7e1",
   "metadata": {},
   "outputs": [
    {
     "data": {
      "text/plain": [
       "['forest_clf.pkl']"
      ]
     },
     "execution_count": 203,
     "metadata": {},
     "output_type": "execute_result"
    }
   ],
   "source": [
    "import joblib\n",
    "\n",
    "joblib.dump(forest_clf, \"forest_clf.pkl\")"
   ]
  },
  {
   "cell_type": "code",
   "execution_count": 204,
   "id": "52b4de61",
   "metadata": {},
   "outputs": [],
   "source": [
    "predictions = forest_clf.predict(test_data_processed)"
   ]
  },
  {
   "cell_type": "code",
   "execution_count": 205,
   "id": "0125db78",
   "metadata": {},
   "outputs": [],
   "source": [
    "submission = test_data['PassengerId']\n",
    "submission = pd.DataFrame(submission)"
   ]
  },
  {
   "cell_type": "code",
   "execution_count": 206,
   "id": "6b2c41d0",
   "metadata": {},
   "outputs": [],
   "source": [
    "submission.columns = ['PassengerId']"
   ]
  },
  {
   "cell_type": "code",
   "execution_count": 207,
   "id": "a2afcb42",
   "metadata": {},
   "outputs": [],
   "source": [
    "submission['Survived'] = predictions.astype(int)"
   ]
  },
  {
   "cell_type": "code",
   "execution_count": 208,
   "id": "56e2b61d",
   "metadata": {},
   "outputs": [],
   "source": [
    "submission.to_csv(r'C:\\Users\\Sasha\\Desktop\\submission_titanic.csv', index=False)"
   ]
  }
 ],
 "metadata": {
  "kernelspec": {
   "display_name": "Python 3",
   "language": "python",
   "name": "python3"
  },
  "language_info": {
   "codemirror_mode": {
    "name": "ipython",
    "version": 3
   },
   "file_extension": ".py",
   "mimetype": "text/x-python",
   "name": "python",
   "nbconvert_exporter": "python",
   "pygments_lexer": "ipython3",
   "version": "3.8.8"
  }
 },
 "nbformat": 4,
 "nbformat_minor": 5
}
